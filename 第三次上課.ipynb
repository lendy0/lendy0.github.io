{
  "nbformat": 4,
  "nbformat_minor": 0,
  "metadata": {
    "colab": {
      "provenance": [],
      "authorship_tag": "ABX9TyOWjjsKuUvV6vgt2+GcOFCJ",
      "include_colab_link": true
    },
    "kernelspec": {
      "name": "python3",
      "display_name": "Python 3"
    },
    "language_info": {
      "name": "python"
    }
  },
  "cells": [
    {
      "cell_type": "markdown",
      "metadata": {
        "id": "view-in-github",
        "colab_type": "text"
      },
      "source": [
        "<a href=\"https://colab.research.google.com/github/lendy0/lendy0.github.io/blob/master/%E7%AC%AC%E4%B8%89%E6%AC%A1%E4%B8%8A%E8%AA%B2.ipynb\" target=\"_parent\"><img src=\"https://colab.research.google.com/assets/colab-badge.svg\" alt=\"Open In Colab\"/></a>"
      ]
    },
    {
      "cell_type": "code",
      "execution_count": 1,
      "metadata": {
        "colab": {
          "base_uri": "https://localhost:8080/"
        },
        "id": "wskW_hirO4Ir",
        "outputId": "f273dd79-9f2e-4b7a-be55-f18f39213f73"
      },
      "outputs": [
        {
          "output_type": "stream",
          "name": "stdout",
          "text": [
            "請輸入成績:70\n",
            "您輸入的成績: 70\n",
            "您的成績 >= 90\n",
            "等第為 A\n",
            "您的成績 >= 80\n",
            "等第為 B\n",
            "您的成績 >= 70\n",
            "等第為 C\n",
            "您的成績 >= 60\n",
            "等第為 D\n",
            "您的成績 < 60\n",
            "等第為 F\n"
          ]
        }
      ],
      "source": [
        "score=int(input('請輸入成績:'))\n",
        "print('您輸入的成績:',score)\n",
        "print('您的成績 >= 90')\n",
        "print('等第為 A')\n",
        "print('您的成績 >= 80')\n",
        "print('等第為 B')\n",
        "print('您的成績 >= 70')\n",
        "print('等第為 C')\n",
        "print('您的成績 >= 60')\n",
        "print('等第為 D')\n",
        "print('您的成績 < 60')\n",
        "print('等第為 F')"
      ]
    },
    {
      "cell_type": "code",
      "source": [],
      "metadata": {
        "id": "IZSnfPL-PQ0_"
      },
      "execution_count": null,
      "outputs": []
    }
  ]
}